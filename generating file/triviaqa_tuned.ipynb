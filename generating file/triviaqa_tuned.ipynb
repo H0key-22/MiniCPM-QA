{
 "cells": [
  {
   "cell_type": "code",
   "execution_count": 1,
   "id": "fece4f6a-7c73-4a05-9a20-a84fede4b1a9",
   "metadata": {},
   "outputs": [
    {
     "name": "stderr",
     "output_type": "stream",
     "text": [
      "/root/miniconda3/envs/FT/lib/python3.8/site-packages/tqdm/auto.py:21: TqdmWarning: IProgress not found. Please update jupyter and ipywidgets. See https://ipywidgets.readthedocs.io/en/stable/user_install.html\n",
      "  from .autonotebook import tqdm as notebook_tqdm\n"
     ]
    }
   ],
   "source": [
    "import json\n",
    "import torch\n",
    "import jsonlines\n",
    "from tqdm import tqdm\n",
    "from transformers import AutoModelForCausalLM, AutoTokenizer"
   ]
  },
  {
   "cell_type": "code",
   "execution_count": 2,
   "id": "35f469e8-344e-49c5-b076-370ca31dbcc9",
   "metadata": {},
   "outputs": [],
   "source": [
    "path = \"output/WebQA_LoRA/20240711084950/checkpoint-20000\"\n",
    "tokenizer = AutoTokenizer.from_pretrained(path)\n",
    "model = AutoModelForCausalLM.from_pretrained(\n",
    "    path, torch_dtype=torch.bfloat16, device_map=\"cuda\", trust_remote_code=True\n",
    ")"
   ]
  },
  {
   "cell_type": "code",
   "execution_count": 3,
   "id": "e4a8014e-4897-4bed-98a4-296640bb3d8e",
   "metadata": {},
   "outputs": [
    {
     "name": "stderr",
     "output_type": "stream",
     "text": [
      "Setting `pad_token_id` to `eos_token_id`:2 for open-end generation.\n",
      "The `seen_tokens` attribute is deprecated and will be removed in v4.41. Use the `cache_position` model input instead.\n"
     ]
    },
    {
     "data": {
      "text/plain": [
       "('OCTOPUSSY',\n",
       " [{'role': 'user',\n",
       "   'content': '<user>Answer the question according to the following content \\n Question: Rita Coolidge sang the title song for which Bond film?\\nFollowing is the content.\\nRITA COOLIDGE  ALL TIME HIGH James Bond 007 OCTOPUSSY The val doonican show 1983 - YouTube\\nRITA COOLIDGE  ALL TIME HIGH James Bond 007 OCTOPUSSY The val doonican show 1983\\nWant to watch this again later?\\nSign in to add this video to a playlist.\\nNeed to report the video?\\nSign in to report inappropriate content.\\nRating is available when the video has been rented.\\nThis feature is not available right now. Please try again later.\\nPublished on Sep 17, 2012\\nClip from THE VAL DOONICAN MUSIC SHOW 1983 Featuring Rita Coolidge Performing The title track to the JAMES BOND film OCTOPUSSY.\\nCategory\\n<assistant>'},\n",
       "  {'role': 'assistant', 'content': 'OCTOPUSSY'}])"
      ]
     },
     "execution_count": 3,
     "metadata": {},
     "output_type": "execute_result"
    }
   ],
   "source": [
    "res, history = model.chat(tokenizer, query=\"<user>Answer the question according to the following content \\n Question: Rita Coolidge sang the title song for which Bond film?\\nFollowing is the content.\\nRITA COOLIDGE  ALL TIME HIGH James Bond 007 OCTOPUSSY The val doonican show 1983 - YouTube\\nRITA COOLIDGE  ALL TIME HIGH James Bond 007 OCTOPUSSY The val doonican show 1983\\nWant to watch this again later?\\nSign in to add this video to a playlist.\\nNeed to report the video?\\nSign in to report inappropriate content.\\nRating is available when the video has been rented.\\nThis feature is not available right now. Please try again later.\\nPublished on Sep 17, 2012\\nClip from THE VAL DOONICAN MUSIC SHOW 1983 Featuring Rita Coolidge Performing The title track to the JAMES BOND film OCTOPUSSY.\\nCategory\\n<assistant>\", max_length=1024, top_p=0.5)\n",
    "res, history"
   ]
  },
  {
   "cell_type": "code",
   "execution_count": 4,
   "id": "8bb35c1e-65c9-468d-b0d0-e4b13abd363a",
   "metadata": {},
   "outputs": [],
   "source": [
    "test_sample_list = []\n",
    "with jsonlines.open(\"test_data/triviaqa-rc_web-ver_test.jsonl\", 'r') as reader:\n",
    "    for i, obj in enumerate(reader):\n",
    "        if i >= 2000:\n",
    "            break\n",
    "        test_sample_list.append(obj)"
   ]
  },
  {
   "cell_type": "code",
   "execution_count": 5,
   "id": "91b1e706-4e95-4469-ab9e-f79a130c0e46",
   "metadata": {},
   "outputs": [
    {
     "name": "stderr",
     "output_type": "stream",
     "text": [
      "  0%|          | 0/410 [00:00<?, ?it/s]Setting `pad_token_id` to `eos_token_id`:2 for open-end generation.\n",
      "  0%|          | 1/410 [00:00<00:59,  6.91it/s]Setting `pad_token_id` to `eos_token_id`:2 for open-end generation.\n",
      "  0%|          | 2/410 [00:00<03:03,  2.23it/s]Setting `pad_token_id` to `eos_token_id`:2 for open-end generation.\n",
      "  1%|          | 3/410 [00:01<02:18,  2.95it/s]Setting `pad_token_id` to `eos_token_id`:2 for open-end generation.\n",
      "  1%|          | 4/410 [00:01<01:51,  3.64it/s]Setting `pad_token_id` to `eos_token_id`:2 for open-end generation.\n",
      "  1%|          | 5/410 [00:01<01:41,  3.99it/s]Setting `pad_token_id` to `eos_token_id`:2 for open-end generation.\n",
      "  1%|          | 5/410 [00:01<02:06,  3.21it/s]\n",
      "Exception ignored in: <bound method IPythonKernel._clean_thread_parent_frames of <ipykernel.ipkernel.IPythonKernel object at 0x7fe0897bd580>>\n",
      "Traceback (most recent call last):\n",
      "  File \"/root/miniconda3/envs/FT/lib/python3.8/site-packages/ipykernel/ipkernel.py\", line 775, in _clean_thread_parent_frames\n",
      "    def _clean_thread_parent_frames(\n",
      "KeyboardInterrupt: \n",
      "\n",
      "KeyboardInterrupt\n",
      "\n"
     ]
    }
   ],
   "source": [
    "max_input_length = 8000  # 设置输入的最大长度\n",
    "output_dict = {}\n",
    "for sample in tqdm(test_sample_list):\n",
    "    index = sample[\"index\"]\n",
    "    user_message = sample[\"messages\"][0][\"content\"]\n",
    "    \n",
    "    # 将用户消息限制在最大输入长度内\n",
    "    user_message = user_message[:max_input_length]\n",
    "    \n",
    "    # 使用 model.chat() 方法进行响应，同时限制生成文本的最大长度\n",
    "    res, history = model.chat(tokenizer, query=f\"<user>{user_message}<assistant>\", max_length=max_input_length, top_p=0.5, temperature=0.8)\n",
    "    output_dict[index] = res"
   ]
  },
  {
   "cell_type": "code",
   "execution_count": null,
   "id": "d4612dfe-6f1f-4770-9241-e52533f304b4",
   "metadata": {},
   "outputs": [],
   "source": [
    "output_file = 'result_data/tuned_web.json'\n",
    "# 将 output_list 写入 JSON 文件\n",
    "with open(output_file, 'w', encoding='utf-8') as f:\n",
    "    json.dump(output_dict, f, ensure_ascii=False, indent=4)"
   ]
  },
  {
   "cell_type": "code",
   "execution_count": null,
   "id": "b31708fb-e741-4456-8d6f-981a4c0b5a2d",
   "metadata": {},
   "outputs": [],
   "source": [
    "test_sample_list = []\n",
    "with jsonlines.open(\"test_data/triviaqa-rc_wiki-ver_test.jsonl\", 'r') as reader:\n",
    "    for i, obj in enumerate(reader):\n",
    "        if i >= 2000:\n",
    "            break\n",
    "        test_sample_list.append(obj)\n",
    "print(len(test_sample_list))"
   ]
  },
  {
   "cell_type": "code",
   "execution_count": null,
   "id": "f74a36e3-0989-4187-9092-3c013c9d4993",
   "metadata": {},
   "outputs": [],
   "source": [
    "max_input_length = 8000  # 设置输入的最大长度\n",
    "output_dict = {}\n",
    "for sample in tqdm(test_sample_list):\n",
    "    index = sample[\"index\"]\n",
    "    qid = index.split('--')[0]\n",
    "    user_message = sample[\"messages\"][0][\"content\"]\n",
    "    \n",
    "    # 将用户消息限制在最大输入长度内\n",
    "    user_message = user_message[:max_input_length]\n",
    "    \n",
    "    # 使用 model.chat() 方法进行响应，同时限制生成文本的最大长度\n",
    "    res, history = model.chat(tokenizer, query=f\"<user>{user_message}<assistant>\", max_length=max_input_length, top_p=0.5, temperature=0.8)\n",
    "    output_dict[qid] = res"
   ]
  },
  {
   "cell_type": "code",
   "execution_count": null,
   "id": "69372333-8283-49f0-9553-5edb1c9299e8",
   "metadata": {},
   "outputs": [],
   "source": [
    "output_file = 'result_data/tuned_wiki.json'\n",
    "# 将 output_list 写入 JSON 文件\n",
    "with open(output_file, 'w', encoding='utf-8') as f:\n",
    "    json.dump(output_dict, f, ensure_ascii=False, indent=4)"
   ]
  }
 ],
 "metadata": {
  "kernelspec": {
   "display_name": "FT",
   "language": "python",
   "name": "ft"
  },
  "language_info": {
   "codemirror_mode": {
    "name": "ipython",
    "version": 3
   },
   "file_extension": ".py",
   "mimetype": "text/x-python",
   "name": "python",
   "nbconvert_exporter": "python",
   "pygments_lexer": "ipython3",
   "version": "3.8.19"
  }
 },
 "nbformat": 4,
 "nbformat_minor": 5
}
